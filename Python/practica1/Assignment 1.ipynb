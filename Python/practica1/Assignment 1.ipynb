{
 "cells": [
  {
   "cell_type": "markdown",
   "metadata": {},
   "source": [
    "# Práctica 1\n",
    "## Certificación Python"
   ]
  },
  {
   "cell_type": "markdown",
   "metadata": {},
   "source": [
    "### Ejercicio 1\n",
    "Escriba un programa que lea un entero (input), lo multiplique por 3 y lo imprima."
   ]
  },
  {
   "cell_type": "code",
   "execution_count": 1,
   "metadata": {},
   "outputs": [
    {
     "name": "stdout",
     "output_type": "stream",
     "text": [
      "Entero: 2\n",
      "6\n"
     ]
    }
   ],
   "source": [
    "entrada = input(\"Entero: \")\n",
    "entrada = int(entrada)\n",
    "print(entrada*3)"
   ]
  },
  {
   "cell_type": "markdown",
   "metadata": {},
   "source": [
    "### Ejercicio 2\n",
    "Escribir un programa que pida al cliente la longitud y ancho de la habitación e imprima la superficie de la habitación, los valores podrán tener decimales.\n",
    "\n",
    "Formato de salida deseado: xx.yy m^2"
   ]
  },
  {
   "cell_type": "code",
   "execution_count": 2,
   "metadata": {},
   "outputs": [
    {
     "name": "stdout",
     "output_type": "stream",
     "text": [
      "Longitud: 4\n",
      "Ancho: 4\n",
      "16.00 m^2\n"
     ]
    }
   ],
   "source": [
    "longitud = input(\"Longitud: \")\n",
    "longitud = float(longitud)\n",
    "ancho = input(\"Ancho: \")\n",
    "ancho = float(ancho)\n",
    "print(\"%2.2f\"%(longitud * ancho), \"m^2\")"
   ]
  },
  {
   "cell_type": "markdown",
   "metadata": {},
   "source": [
    "### Ejercicio 3\n",
    "Determinar el área y volumen de un cilindro cuyas dimensiones (radio - altura) se lean desde el teclado.\n",
    "\n",
    "Formato de salida deseado: xx.yy m^3"
   ]
  },
  {
   "cell_type": "code",
   "execution_count": null,
   "metadata": {},
   "outputs": [],
   "source": [
    "import math\n",
    "radio = input(\"Radio: \")\n",
    "radio = float(radio)\n",
    "altura = input(\"Altura: \")\n",
    "altura = float(altura)\n",
    "volumen = math.pi * (radio ** 2) * altura\n",
    "area = 2 * math.pi * radio * (altura + radio)\n",
    "print(\"Area: %.2f\"%(area), \"m^2\")\n",
    "print(\"Volumen: %.2f\"%(volumen), \"m^3\")"
   ]
  },
  {
   "cell_type": "markdown",
   "metadata": {},
   "source": [
    "### Ejercicio 4\n",
    "La fuerza de atracción entre dos masas m1 y m2 separadas por una distancia d, está dada por la fórmula:\n",
    "\n",
    "![imagen](./f1.png)\n",
    "\n",
    "Donde G es la constante de gravitación universal:\n",
    "\n",
    "![imagen](./f2.png)\n",
    "\n",
    "Escriba un programa que lea la masa de dos cuerpos y la distancia entre ellos y a\n",
    "continuación obtenga la fuerza gravitacional entre ella. La salida debe ser en dinas; un\n",
    "DINA es igual a g*cm/seg².\n",
    "\n",
    "Formato de salida deseado: xx.yy dyn"
   ]
  },
  {
   "cell_type": "code",
   "execution_count": 1,
   "metadata": {},
   "outputs": [
    {
     "name": "stdout",
     "output_type": "stream",
     "text": [
      "Masa 1: 50000\n",
      "Masa 2: 90000\n",
      "Distancia: 3\n",
      "F = 33.37 dyn\n"
     ]
    }
   ],
   "source": [
    "m1 = float(input(\"Masa 1: \"))\n",
    "m2 = float(input(\"Masa 2: \"))\n",
    "d = float(input(\"Distancia: \"))\n",
    "g = 6.673 * (10 ** (-8))\n",
    "f = (g * m1 * m2) / (d ** 2)\n",
    "print(\"F = %.2f\"%(f),\"dyn\")"
   ]
  },
  {
   "cell_type": "markdown",
   "metadata": {},
   "source": [
    "### Ejercicio 5\n",
    "La famosa ecuación de Einstein para conversión de una masa m en energía viene dada por la fórmula:\n",
    "\n",
    "![imagen](./f3.png)\n",
    "\n",
    "Escribir un programa que lea una masa en gramos y obtenga la cantidad de energía producida cuando la masa se convierta en energía.\n",
    "\n",
    "Nota: se la masa se da en gramos, la fórmula produce la energía en ergios.\n",
    "\n",
    "Formato de salida deseado: xx.yy erg"
   ]
  },
  {
   "cell_type": "code",
   "execution_count": 2,
   "metadata": {},
   "outputs": [
    {
     "name": "stdout",
     "output_type": "stream",
     "text": [
      "Masa: 6\n",
      "E = 6475518000000.00\n"
     ]
    }
   ],
   "source": [
    "c = 2.997925 * (10 ** 10)\n",
    "m = input(\"Masa: \")\n",
    "m = float(m)\n",
    "e = c * (m ** 3)\n",
    "print(\"E = %.2f\"%(e))"
   ]
  },
  {
   "cell_type": "markdown",
   "metadata": {},
   "source": [
    "### Ejercicio 6\n",
    "Escribir un programa que lea la hora en un día de notación 24 horas y escriba la respuesta en notación de 12 horas. Por ejemplo, si la entrada es 13:45, la salida será:\n",
    "\n",
    "<p style=\"text-align: center;\">1:45PM</p>\n",
    "\n",
    "El programa pedirá al usuario que introduzca exactamente cinco caracteres. Así, por\n",
    "ejemplo, las nueve en punto se introduce como:\n",
    "\n",
    "<p style=\"text-align: center;\">09:00</p>"
   ]
  },
  {
   "cell_type": "code",
   "execution_count": 3,
   "metadata": {},
   "outputs": [
    {
     "name": "stdout",
     "output_type": "stream",
     "text": [
      "Hora: 13:45\n",
      "1:45PM\n"
     ]
    }
   ],
   "source": [
    "tiempo = input(\"Hora: \")\n",
    "hora = tiempo[0] + tiempo[1]\n",
    "minuto = tiempo[2] + tiempo[3] + tiempo[4]\n",
    "horan = int(hora)\n",
    "if horan > 12:\n",
    "    print(str(horan - 12) + minuto + \"PM\")\n",
    "else:\n",
    "    print(str(horan) + minuto + \"AM\")"
   ]
  },
  {
   "cell_type": "markdown",
   "metadata": {},
   "source": [
    "### Ejercicio 7\n",
    "Leer un número A, evaluar sucesivamente las expresiones siguientes y desplegar los resultados obtenidos en un archivo denominado “practica01.out”.\n",
    "\n",
    "- B = A + 10\n",
    "- C = 2 * B + A\n",
    "- D = A + B + C + 5\n",
    "\n",
    "Formato de salida deseado:\n",
    "\n",
    "Ejercicio 7.\n",
    "\n",
    "- A = xx\n",
    "- B = yy\n",
    "- C = zz\n",
    "- D = xyz"
   ]
  },
  {
   "cell_type": "code",
   "execution_count": 6,
   "metadata": {},
   "outputs": [
    {
     "name": "stdout",
     "output_type": "stream",
     "text": [
      "A = 5\n"
     ]
    }
   ],
   "source": [
    "A = input(\"A = \")\n",
    "A = float(A)\n",
    "B = A + 10\n",
    "C = 2 * B + A\n",
    "D = A + B + C + 5\n",
    "archivo = open(\"practica01.out\", \"w\")\n",
    "archivo.write(\"Ejercicio 7.\\n\")\n",
    "archivo.write(\"A = %2.0f\\n\"%(A))\n",
    "archivo.write(\"B = %2.0f\\n\"%(B))\n",
    "archivo.write(\"C = %2.0f\\n\"%(C))\n",
    "archivo.write(\"D = %2.0f\\n\"%(D))\n",
    "archivo.close()"
   ]
  },
  {
   "cell_type": "markdown",
   "metadata": {},
   "source": [
    "### Ejercicio 8\n",
    "Hacer leer un número X de tipo decimal, hallar su valor absoluto y decimal, desplegar el resultado dentro del archivo “practica01.out”.\n",
    "\n",
    "Formato de salida deseado:\n",
    "\n",
    "Ejercicio 8.\n",
    "\n",
    "Número: xx.yy\n",
    "\n",
    "Valor absoluto: xx\n",
    "\n",
    "Parte decimal: yy"
   ]
  },
  {
   "cell_type": "code",
   "execution_count": 7,
   "metadata": {},
   "outputs": [
    {
     "name": "stdout",
     "output_type": "stream",
     "text": [
      "Numero: 6\n"
     ]
    }
   ],
   "source": [
    "archivo = open(\"practica01.out\", \"a\")\n",
    "numero = input(\"Numero: \")\n",
    "numero = float(numero)\n",
    "absoluto = int(numero)\n",
    "decimal = (numero - absoluto) * 100\n",
    "decimal = int(decimal)\n",
    "archivo.write(\"Ejercicio 8.\\n\")\n",
    "archivo.write(\"Número: %.2f\\n\"%(numero))\n",
    "archivo.write(\"Valor absoluto: %d\\n\"%(absoluto))\n",
    "archivo.write(\"Parte decimal: %d\\n\"%(decimal))\n",
    "archivo.close()"
   ]
  },
  {
   "cell_type": "markdown",
   "metadata": {},
   "source": [
    "### Ejercicio 9\n",
    "Leer a, b, c y d, hallar el menor y mayor de los cuatro números, desplegar su resultado\n",
    "en el archivo “practica01.out”."
   ]
  },
  {
   "cell_type": "code",
   "execution_count": 8,
   "metadata": {},
   "outputs": [
    {
     "name": "stdout",
     "output_type": "stream",
     "text": [
      "a: 9\n",
      "b: 5\n",
      "c: 7\n",
      "d: 6\n"
     ]
    }
   ],
   "source": [
    "a = input(\"a: \")\n",
    "a = float(a)\n",
    "mayor = a\n",
    "menor = a\n",
    "b = input(\"b: \")\n",
    "b = float(b)\n",
    "if b > mayor: mayor = b\n",
    "if b < menor: menor = b\n",
    "c = input(\"c: \")\n",
    "c = float(c)\n",
    "if c > mayor: mayor = c\n",
    "if c < menor: menor = c\n",
    "d = input(\"d: \")\n",
    "d = float(d)\n",
    "if d > mayor: mayor = d\n",
    "if d < menor: menor = d\n",
    "\n",
    "archivo = open(\"practica01.out\", \"a\")\n",
    "archivo.write(\"Ejercicio 9.\\n\")\n",
    "archivo.write(\"Menor = %.2f\\n\"%(menor))\n",
    "archivo.write(\"Mayor = %.2f\\n\"%(mayor))\n",
    "archivo.close()"
   ]
  },
  {
   "cell_type": "markdown",
   "metadata": {},
   "source": [
    "### Ejercicio 10\n",
    "Dado los valores de X, Y, Z, evaluar A = X^2+Y^2+Z^2. Si se cumple que, A<100 y Y<5\n",
    "calcular B = (X+Y)^2 – X*Z, caso contrario calcular B = (X-Y)^2 + X*Z. Desplegar A y B\n",
    "en el archivo “practica01.out”."
   ]
  },
  {
   "cell_type": "code",
   "execution_count": 10,
   "metadata": {},
   "outputs": [
    {
     "name": "stdout",
     "output_type": "stream",
     "text": [
      "X: 5\n",
      "Y: 4\n",
      "Z: 8\n"
     ]
    }
   ],
   "source": [
    "X = input(\"X: \")\n",
    "X = float(X)\n",
    "Y = input(\"Y: \")\n",
    "Y = float(Y)\n",
    "Z = input(\"Z: \")\n",
    "Z = float(Z)\n",
    "A = (X ** 2) + (Y ** 2) + (Z ** 2)\n",
    "B1 = ((X + X) ** 2) - (X * Z)\n",
    "B2 = ((X - X) ** 2) + (X * Z)\n",
    "archivo = open(\"practica01.out\", \"a\")\n",
    "archivo.write(\"Ejercicio 10.\\n\")\n",
    "archivo.write(\"A = %.2f\\n\"%(A))\n",
    "if (A < 100 and Y < 5): archivo.write(\"B = %.2f\\n\"%(a1))\n",
    "else: archivo.write(\"B = %.2f\\n\"%(B2))\n",
    "archivo.close()"
   ]
  }
 ],
 "metadata": {
  "kernelspec": {
   "display_name": "Python 3",
   "language": "python",
   "name": "python3"
  },
  "language_info": {
   "codemirror_mode": {
    "name": "ipython",
    "version": 3
   },
   "file_extension": ".py",
   "mimetype": "text/x-python",
   "name": "python",
   "nbconvert_exporter": "python",
   "pygments_lexer": "ipython3",
   "version": "3.7.6"
  }
 },
 "nbformat": 4,
 "nbformat_minor": 2
}
