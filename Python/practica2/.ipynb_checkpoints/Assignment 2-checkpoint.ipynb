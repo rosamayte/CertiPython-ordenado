{
 "cells": [
  {
   "cell_type": "markdown",
   "metadata": {},
   "source": [
    "# PRÁCTICA Nº 2\n",
    "## CERTIFICACIÓN PYTHON"
   ]
  },
  {
   "cell_type": "markdown",
   "metadata": {},
   "source": [
    "### Resolver con IF\n",
    "#### Ejercicio 21\n",
    "Escribir un programa que determine si el año es bisiesto. Un año es bisiesto si es múltiplo de 4 (1988), excepto los múltiplos de 100 que no son bisiestos salvo que a su vez también sean múltiplos de 400 (1800no es bisiesto, 2000 sí)."
   ]
  },
  {
   "cell_type": "code",
   "execution_count": 5,
   "metadata": {},
   "outputs": [
    {
     "name": "stdout",
     "output_type": "stream",
     "text": [
      "Año bisiesto\n",
      "Ingrese el año: 2000\n"
     ]
    }
   ],
   "source": [
    "print(\"Año bisiesto\")\n",
    "a = int(input(\"Ingrese el año: \"))\n",
    "if a % 4 == 0:\n",
    "    if a % 100 == 0:\n",
    "        print(\"No es un año bisiesto\")\n",
    "        print(\"Es un año bisiesto\")\n",
    "else:\n",
    "    print(\"No es un año bisiesto\")\n"
   ]
  },
  {
   "cell_type": "code",
   "execution_count": null,
   "metadata": {},
   "outputs": [],
   "source": []
  }
 ],
 "metadata": {
  "kernelspec": {
   "display_name": "Python 3",
   "language": "python",
   "name": "python3"
  },
  "language_info": {
   "codemirror_mode": {
    "name": "ipython",
    "version": 3
   },
   "file_extension": ".py",
   "mimetype": "text/x-python",
   "name": "python",
   "nbconvert_exporter": "python",
   "pygments_lexer": "ipython3",
   "version": "3.7.6"
  }
 },
 "nbformat": 4,
 "nbformat_minor": 4
}
