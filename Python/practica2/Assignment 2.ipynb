{
 "cells": [
  {
   "cell_type": "markdown",
   "metadata": {},
   "source": [
    "# PRÁCTICA Nº 2\n",
    "## CERTIFICACIÓN PYTHON"
   ]
  },
  {
   "cell_type": "markdown",
   "metadata": {},
   "source": [
    "### Resolver con IF\n",
    "#### Ejercicio 21\n",
    "Escribir un programa que determine si el año es bisiesto. Un año es bisiesto si es múltiplo de 4 (1988), excepto los múltiplos de 100 que no son bisiestos salvo que a su vez también sean múltiplos de 400 (1800no es bisiesto, 2000 sí)."
   ]
  },
  {
   "cell_type": "code",
   "execution_count": 5,
   "metadata": {},
   "outputs": [
    {
     "name": "stdout",
     "output_type": "stream",
     "text": [
      "Año bisiesto\n",
      "Ingrese el año: 2000\n"
     ]
    }
   ],
   "source": [
    "print(\"Año bisiesto\")\n",
    "n = int(input(\"Ingrese un año: \"))\n",
    "if n % 4 == 0:\n",
    "    if n % 100 == 0:\n",
    "        if n % 400 == 0:\n",
    "            print(\"Es un año bisiesto\")\n",
    "        else:\n",
    "            print(\"No es bisiesto\")\n",
    "    else:\n",
    "        print(\"Es un año bisiesto\")\n",
    "else:\n",
    "    print(\"No es bisiesto\")"
   ]
  },
  {
   "cell_type": "markdown",
   "metadata": {},
   "source": [
    "#### Ejercicio 22\n",
    "Dado los valores de A, B, C que son los coeficientes de la ecuación de segundo grado, hallar sus raíces reales, desplegar los resultados."
   ]
  },
  {
   "cell_type": "code",
   "execution_count": null,
   "metadata": {},
   "outputs": [],
   "source": [
    "import math\n",
    "a = int(input(\"Ingrese un numero: \"))\n",
    "b = int(input(\"Ingrese un numero: \"))\n",
    "c = int(input(\"Ingrese un numero: \"))\n",
    "det = (b**2 - 4*a*c)\n",
    "if det >= 0:\n",
    "    div = 2 * a\n",
    "    x1 = (-b + math.sqrt(det))/div\n",
    "    x2 = (-b - math.sqrt(det))/div\n",
    "    print(\"Las soluciones son: %.1f y %.1f\"%(x1,x2))\n",
    "else:\n",
    "    print(\"Las soluciones no son reales\")"
   ]
  },
  {
   "cell_type": "markdown",
   "metadata": {},
   "source": [
    "### Resolver con WHILE\n",
    "#### Ejercicio 23\n",
    "Dado dos valores A y B, realizar el producto de los dos números por sumas sucesivas, almacenar el resultado en una variable P, mostrar el resultado."
   ]
  },
  {
   "cell_type": "code",
   "execution_count": 5,
   "metadata": {},
   "outputs": [
    {
     "name": "stdout",
     "output_type": "stream",
     "text": [
      "Ingresar el primer valor: 8\n",
      "Ingresar el segundo valor: 8\n",
      "El resultado es:  64\n"
     ]
    }
   ],
   "source": [
    "n1 = int(input(\"Ingresar el primer valor: \"))\n",
    "n2 = int(input(\"Ingresar el segundo valor: \"))\n",
    "p = 0\n",
    "i = 1\n",
    "while i <= n2:\n",
    "    p += n1\n",
    "    i += 1\n",
    "print(\"El resultado es: \", p)"
   ]
  },
  {
   "cell_type": "markdown",
   "metadata": {},
   "source": [
    "#### Ejercicio 24\n",
    "Dado un número X, determinar el número de dígitos del que esta compuesto y desplegar el resultado."
   ]
  },
  {
   "cell_type": "code",
   "execution_count": 16,
   "metadata": {},
   "outputs": [
    {
     "name": "stdout",
     "output_type": "stream",
     "text": [
      "Cantidad digitos\n",
      "Ingresar un numero:23456789\n",
      "La cantidad es:  8\n"
     ]
    }
   ],
   "source": [
    "print(\"Cantidad digitos\")\n",
    "x = int(input(\"Ingresar un numero:\"))\n",
    "i = 0\n",
    "while i < len(str(x)):\n",
    "    i += 1\n",
    "print(\"La cantidad es: \",i)"
   ]
  },
  {
   "cell_type": "markdown",
   "metadata": {},
   "source": [
    "#### Ejercicio 25\n",
    "Escribir un programa que calcule y visualice el más grande, el más pequeño y la media de N números. El valor de N se solicitará al principio del programa y los números serán introducidos por el usuario."
   ]
  },
  {
   "cell_type": "code",
   "execution_count": 19,
   "metadata": {},
   "outputs": [
    {
     "name": "stdout",
     "output_type": "stream",
     "text": [
      "Ingresar la cantidad de numeros: 5\n",
      "Ingrese un numero: 5\n",
      "Ingrese un numero: 4\n",
      "Ingrese un numero: 3\n",
      "Ingrese un numero: 2\n",
      "Ingrese un numero: 1\n",
      "El menor es:  1\n",
      "El mayor es:  5\n",
      "La media es:  3.0\n"
     ]
    }
   ],
   "source": [
    "n = int(input(\"Ingresar la cantidad de numeros: \"))\n",
    "n1 = int(input(\"Ingrese un numero: \"))\n",
    "i = 1\n",
    "may = n1\n",
    "men = n1\n",
    "sum = n1\n",
    "while i < n:\n",
    "    n1 = int(input(\"Ingrese un numero: \"))\n",
    "    if n1 > may:\n",
    "        may = n1\n",
    "    if n1 < men:\n",
    "        men = n1\n",
    "    sum += n1\n",
    "    i += 1\n",
    "print(\"El menor es: \",men)\n",
    "print(\"El mayor es: \", may)\n",
    "print(\"La media es: \", sum/n)"
   ]
  },
  {
   "cell_type": "markdown",
   "metadata": {},
   "source": [
    "#### Ejercicio 26\n",
    "Dado dos números A y B enteros mayores a cero, hallar A^B por sumas. Desplegar los números y el resultado."
   ]
  },
  {
   "cell_type": "code",
   "execution_count": 58,
   "metadata": {},
   "outputs": [
    {
     "name": "stdout",
     "output_type": "stream",
     "text": [
      "Ingrese el numero: 10\n",
      "Ingrese la potencia: 2\n",
      "El resultado es:  100\n"
     ]
    }
   ],
   "source": [
    "a = int(input(\"Ingrese el numero: \"))\n",
    "b = int(input(\"Ingrese la potencia: \"))\n",
    "\n",
    "def mult(a,b):\n",
    "    p = 0\n",
    "    i = 1\n",
    "    while i <= b:\n",
    "        p += a\n",
    "        i += 1\n",
    "    return p\n",
    "\n",
    "if a > 0 and b > 0:\n",
    "    res = a\n",
    "    i = 1\n",
    "    while i < b:\n",
    "        res = mult(res,a)\n",
    "        i += 1\n",
    "    \n",
    "    print(\"El resultado es: \", res)\n",
    "else:\n",
    "    print(\"Los numeros deben ser mayores a 0\")"
   ]
  },
  {
   "cell_type": "markdown",
   "metadata": {},
   "source": [
    "### Resolver con FOR\n",
    "#### Ejercicio 27\n",
    "La constante pi (3.1441592…) es muy utilizada en matemáticas. Un método sencillo de calcular su valor es:\n",
    "![imagen](./pi.png)\n",
    "Escribir un programa que efectúe este cálculo con un número de términos especificando por el usuario."
   ]
  },
  {
   "cell_type": "code",
   "execution_count": 89,
   "metadata": {},
   "outputs": [
    {
     "name": "stdout",
     "output_type": "stream",
     "text": [
      "PI\n",
      "Ingresar un numero: 10000\n",
      "3.1417497371492673\n"
     ]
    }
   ],
   "source": [
    "print(\"PI\")\n",
    "n = int(input(\"Ingresar un numero: \"))\n",
    "pi = 2\n",
    "pip = 1\n",
    "pii = 1\n",
    "ult = 0\n",
    "for i in range(2,n+1):\n",
    "    if i % 2 == 0:\n",
    "        pip *= i*i\n",
    "    elif not i % 2 == 0:\n",
    "        pii *= i*i\n",
    "    ult = i\n",
    "pi *= pip / pii\n",
    "if ult % 2 == 0:\n",
    "    pi /= ult\n",
    "else:\n",
    "    pi *= ult\n",
    "print(pi)"
   ]
  },
  {
   "cell_type": "markdown",
   "metadata": {},
   "source": [
    "#### Ejercicio 28\n",
    "El valor de e<sup>x</sup> se puede aproximar por la suma\n",
    "![imagen](./f.png)\n",
    "Escribir un programa que tome un valor de x como entrada y visualice la suma para cada uno de los valores de 1 a 100."
   ]
  },
  {
   "cell_type": "code",
   "execution_count": 97,
   "metadata": {},
   "outputs": [
    {
     "name": "stdout",
     "output_type": "stream",
     "text": [
      "X: 1\n",
      "2.7182818284590455\n"
     ]
    }
   ],
   "source": [
    "def fact(n):\n",
    "    if n == 0 or n == 1:\n",
    "        return 1\n",
    "    else:\n",
    "        return n*fact(n-1)\n",
    "x = int(input(\"X: \"))\n",
    "v = 0\n",
    "for n in range(101):\n",
    "    v += (x ** n) / fact(n)\n",
    "print(v)"
   ]
  },
  {
   "cell_type": "markdown",
   "metadata": {},
   "source": [
    "### Resolver con LISTAS\n",
    "#### Ejercicio 29\n",
    "Calcular la suma de todos los elementos de un vector, así como la media aritmética."
   ]
  },
  {
   "cell_type": "code",
   "execution_count": 101,
   "metadata": {},
   "outputs": [
    {
     "name": "stdout",
     "output_type": "stream",
     "text": [
      "Suma de elementos:  24\n",
      "Media aritmetica:  4.0\n"
     ]
    }
   ],
   "source": [
    "lista = [1,2,3,4,5,9]\n",
    "suma = sum(lista)\n",
    "l = len(lista)\n",
    "print(\"Suma de elementos: \",suma)\n",
    "print(\"Media aritmetica: \",suma/l)"
   ]
  },
  {
   "cell_type": "markdown",
   "metadata": {},
   "source": [
    "#### Ejercicio 30\n",
    "Multiplicar dos matrices."
   ]
  },
  {
   "cell_type": "code",
   "execution_count": 113,
   "metadata": {},
   "outputs": [
    {
     "name": "stdout",
     "output_type": "stream",
     "text": [
      "[1, 4, 2]\n",
      "[-2, 0, -4]\n"
     ]
    }
   ],
   "source": [
    "m1 = [[1,2],\n",
    "      [-2,0]]\n",
    "m2 = [[1,0,2],\n",
    "      [0,2,0]]\n",
    "\n",
    "matriz = []\n",
    "for i in range(len(m1)):\n",
    "    matriz.append([])\n",
    "    for j in range(len(m2[0])):\n",
    "        matriz[i].append(0)\n",
    "        \n",
    "for i in range(len(m1)):\n",
    "    for j in range(len(m2[0])):\n",
    "        val = 0\n",
    "        for jj in range(len(m1)):\n",
    "            val += m1[i][jj]*m2[jj][j]\n",
    "        matriz[i][j] = val\n",
    "        \n",
    "for e in matriz:\n",
    "    print(e)"
   ]
  },
  {
   "cell_type": "code",
   "execution_count": null,
   "metadata": {},
   "outputs": [],
   "source": []
  }
 ],
 "metadata": {
  "kernelspec": {
   "display_name": "Python 3",
   "language": "python",
   "name": "python3"
  },
  "language_info": {
   "codemirror_mode": {
    "name": "ipython",
    "version": 3
   },
   "file_extension": ".py",
   "mimetype": "text/x-python",
   "name": "python",
   "nbconvert_exporter": "python",
   "pygments_lexer": "ipython3",
   "version": "3.7.6"
  }
 },
 "nbformat": 4,
 "nbformat_minor": 4
}
